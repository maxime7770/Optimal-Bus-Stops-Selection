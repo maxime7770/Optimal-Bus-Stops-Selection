{
 "cells": [
  {
   "cell_type": "markdown",
   "metadata": {},
   "source": [
    "## File to optimize routes simultaneously"
   ]
  },
  {
   "cell_type": "code",
   "execution_count": 1,
   "metadata": {},
   "outputs": [
    {
     "name": "stderr",
     "output_type": "stream",
     "text": [
      "\u001b[36m\u001b[1m[ \u001b[22m\u001b[39m\u001b[36m\u001b[1mInfo: \u001b[22m\u001b[39mPrecompiling JuMP [4076af6c-e467-56ae-b986-b466b2749572]\n"
     ]
    }
   ],
   "source": [
    "using CSV, DataFrames, JuMP, Gurobi"
   ]
  },
  {
   "cell_type": "code",
   "execution_count": 17,
   "metadata": {},
   "outputs": [
    {
     "data": {
      "text/plain": [
       "24×24 Matrix{Float64}:\n",
       " 0.0         0.0038998   0.00581405  …  0.0484533   0.0512928   0.0538272\n",
       " 0.0038998   0.0         0.00203093     0.0496005   0.0525027   0.0551407\n",
       " 0.00581405  0.00203093  0.0            0.0494743   0.0524038   0.0550928\n",
       " 0.00724959  0.0033498   0.00170407     0.0507976   0.0537395   0.0564529\n",
       " 0.0103872   0.00654777  0.00506829     0.0533614   0.0563238   0.0590825\n",
       " 0.0135484   0.00964908  0.00785573  …  0.0537131   0.0566979   0.0595205\n",
       " 0.0126507   0.00878222  0.00684401     0.0519301   0.0549144   0.0577353\n",
       " 0.0117351   0.00810541  0.00607617     0.049308    0.0522915   0.0551103\n",
       " 0.0114781   0.00883208  0.00719029     0.0448824   0.0478644   0.0506795\n",
       " 0.0123063   0.0106184   0.00942731     0.0414495   0.0444292   0.0472381\n",
       " 0.0127855   0.0114281   0.0103832   …  0.0401999   0.0431783   0.0459835\n",
       " 0.015601    0.0149162   0.014117       0.0362145   0.0391959   0.0420118\n",
       " 0.0183403   0.0178466   0.0170844      0.0334512   0.0364402   0.039284\n",
       " 0.0212362   0.0208799   0.0201416      0.0306613   0.033656    0.0365306\n",
       " 0.030291    0.0302177   0.0295377      0.0223924   0.0253631   0.0283259\n",
       " 0.0323794   0.0325003   0.0319041   …  0.0197215   0.022687    0.0256539\n",
       " 0.0357168   0.0361379   0.0356758      0.0153493   0.0183124   0.0212807\n",
       " 0.0393905   0.0400655   0.0397182      0.010809    0.013768    0.0167382\n",
       " 0.0419446   0.0427614   0.0424788      0.00777945  0.0107325   0.0137048\n",
       " 0.0445592   0.0454992   0.0452731      0.00476642  0.00770452  0.0106804\n",
       " 0.0464123   0.0474612   0.0472877   …  0.00244144  0.00540122  0.00836596\n",
       " 0.0484533   0.0496005   0.0494743      0.0         0.00299606  0.0059338\n",
       " 0.0512928   0.0525027   0.0524038      0.00299606  0.0         0.00298741\n",
       " 0.0538272   0.0551407   0.0550928      0.0059338   0.00298741  0.0"
      ]
     },
     "execution_count": 17,
     "metadata": {},
     "output_type": "execute_result"
    }
   ],
   "source": [
    "data = CSV.read(\"data_route1.csv\", DataFrame)\n",
    "\n",
    "\n",
    "x = data[:, 5]\n",
    "y = data[:, 6]\n",
    "\n",
    "# distance matrix from x and y\n",
    "dist = zeros(n, n)\n",
    "for i in 1:length(x)\n",
    "    for j in 1:length(x)\n",
    "        dist[i, j] = sqrt((x[i] - x[j])^2 + (y[i] - y[j])^2)\n",
    "    end\n",
    "end\n",
    "dist = Matrix(dist);\n",
    "dist"
   ]
  },
  {
   "cell_type": "code",
   "execution_count": 15,
   "metadata": {},
   "outputs": [],
   "source": [
    "data = CSV.read(\"data_route1_time_periods.csv\", DataFrame)\n",
    "\n",
    "data_matrix = []\n",
    "for i in 1:11\n",
    "    if i >= 10\n",
    "        time_period = \"time_period_\" * string(i)\n",
    "    else\n",
    "        time_period = \"time_period_0\" * string(i)\n",
    "    end\n",
    "    # subset of data when time_period_id is time_period_i\n",
    "    data_subset = data[data[!, \"time_period_id\"] .== time_period, :]\n",
    "    data_subset = Matrix(data_subset)\n",
    "    push!(data_matrix, data_subset)\n",
    "end\n",
    "\n",
    "x = data_matrix[1][:, 5]\n",
    "y = data_matrix[1][:, 6]\n",
    "n = length(x)\n",
    "\n",
    "p = 11\n",
    "\n",
    "# create on_data matrix with one column for each time period\n",
    "on_data_matrix = zeros(n, 11)\n",
    "for i in 1:11\n",
    "    on_data_matrix[:, i] = data_matrix[i][:, 2]\n",
    "end\n",
    "\n",
    "# create off_data matrix with one column for each time period\n",
    "off_data_matrix = zeros(n, 11)\n",
    "for i in 1:11\n",
    "    off_data_matrix[:, i] = data_matrix[i][:, 3]\n",
    "end\n",
    "\n",
    "load_data_matrix = zeros(n, 11)\n",
    "for i in 1:11\n",
    "    load_data_matrix[:, i] = data_matrix[i][:, 4]\n",
    "end"
   ]
  },
  {
   "cell_type": "code",
   "execution_count": 6,
   "metadata": {},
   "outputs": [
    {
     "data": {
      "text/plain": [
       "bus_model_time_periods (generic function with 1 method)"
      ]
     },
     "execution_count": 6,
     "metadata": {},
     "output_type": "execute_result"
    }
   ],
   "source": [
    "function bus_model_time_periods(lambda)\n",
    "\n",
    "    M = 1000\n",
    "\n",
    "    model = Model(Gurobi.Optimizer)\n",
    "    set_attribute(model, \"OutputFlag\", 0)\n",
    "\n",
    "    @variable(model, z[1:n, 1:p], Bin)\n",
    "    @variable(model, load[1:n, 1:p] >= 0)\n",
    "    @variable(model, off[1:n, 1:p] >= 0)\n",
    "    @variable(model, y[1:p, 1:4], Bin)\n",
    "    @variable(model, s[1:p, 1:4], Bin) # if s_tj = 1, then y_tj + y_t+1,j + y_t_2,j + y_t+3,j = 1\n",
    "\n",
    "    @constraint(model, [i in 1:n, t in 1:p], load[i, t] <= 40)\n",
    "    # load at bus stop j = load at bus stop j-1 + z_j * (number_go_on_at_stop_j - number_go_off_at_j-1)\n",
    "    @constraint(model, [t in 1:p], load[1, t] == load_data_matrix[1, t])\n",
    "    @constraint(model, [t in 1:p], load[n, t] <= 1)\n",
    "    @constraint(model, [i in 2:n, t in 1:p], load[i, t] == load[i-1, t] + z[i, t] * (on_data_matrix[i, t] - off[i-1, t]))\n",
    "    # If a stop is removed, people go go off at the next available stop off_j = off_data_j + (1-z_{j-1})*off_j-1\n",
    "    @constraint(model, [t in 1:p], off[1, t] == off_data_matrix[1, t])\n",
    "    @constraint(model, [i in 2:n, t in 1:p], off[i, t] == off_data_matrix[i, t] + (1-z[i-1, t]) * off[i-1, t])\n",
    "    # bus has to stop at first and last stop\n",
    "    @constraint(model, [t in 1:p], z[1, t] == 1)\n",
    "    @constraint(model, [t in 1:p], z[n, t] == 1)\n",
    "    # time periods constraints: group time periods into 4 groups (must be consecutive) because we dont want to change stops too often\n",
    "    @constraint(model, sum(y[t, 1] for t in 1:p) == 3)\n",
    "    @constraint(model, sum(y[t, 2] for t in 1:p) == 3)\n",
    "    @constraint(model, sum(y[t, 3] for t in 1:p) == 3)\n",
    "    @constraint(model, sum(y[t, 4] for t in 1:p) == 2)\n",
    "    @constraint(model, [t in 1:p], sum(y[t, j] for j in 1:4) == 1)  # each time period is in exactly one group\n",
    "    # @constraint(model, [t in 1:p, j in 1:4], s[t, j] <= y[t, j])\n",
    "    # @constraint(model, [t in 1:p, j in 1:4], s[t, j] <= y[t%11 + 1, j])\n",
    "    # @constraint(model, [t in 1:p, j in 1:4], s[t, j] <= y[(t+1)%11 + 1, j])\n",
    "    @constraint(model, [t in 1:p, j in 1:3], 3*s[t, j] <= y[t, j] + y[t%11 + 1, j] + y[(t+1)%11 + 1, j])\n",
    "    @constraint(model, [t in 1:p], 2*s[t, 4] <= y[t, 4] + y[t%11 + 1, 4])\n",
    "    @constraint(model, [j in 1:4], sum(s[t, j] for t in 1:p) == 1)\n",
    "    @constraint(model, [i in 1:n, t in 1:p, k in 1:p, j in 1:4], z[i, t] <= z[i, k] + M*(2 - y[t, j] - y[k, j])) # if time t and k are in the same group, then z[i, t] <= z[i, k]\n",
    "    @constraint(model, [i in 1:n, t in 1:p, k in 1:p, j in 1:4], z[i, t] >= z[i, k] - M*(2 - y[t, j] - y[k, j])) # if time t and k are in the same group, then z[i, t] >= z[i, k]\n",
    "\n",
    "    # CO2 consumption is sum(load[i] * distance to go from i to i+1) + (penalty if bus stops at stop i)\n",
    "    @objective(model, Max, lambda * sum(z[i, t] * on_data_matrix[i, t] for i in 1:n for t in 1:p) - (1 - lambda) * (sum(load[i, t] * dist[i, i+1] for i in 1:n-1 for t in 1:p) + sum(z[i, t] for i in 1:n for t in 1:p)))\n",
    "\n",
    "    optimize!(model);\n",
    "\n",
    "    return z, load, off, y, s, objective_value(model)\n",
    "end"
   ]
  },
  {
   "cell_type": "code",
   "execution_count": 18,
   "metadata": {},
   "outputs": [
    {
     "data": {
      "text/plain": [
       "24×9 Matrix{Any}:\n",
       "    64  10.375   0.0     …  \"NUBIAN STATION\"\n",
       "     1   0.15    0.0125     \"WASHINGTON ST OPP RUGGLES ST\"\n",
       "     2   0.175   0.6875     \"WASHINGTON ST @ MELNEA CASS BLVD\"\n",
       "     6   0.0125  0.0        \"MELNEA CASS BLVD @ HARRISON AVE\"\n",
       " 10003   0.2375  0.15       \"ALBANY ST OPP RANDALL ST\"\n",
       "    57   1.3125  1.5125  …  \"MASSACHUSETTS AVE @ ALBANY ST\"\n",
       "    58   1.0875  0.8875     \"MASSACHUSETTS AVE @ HARRISON AVE\"\n",
       " 10590   1.2875  0.1625     \"MASSACHUSETTS AVE @ WASHINGTON ST\"\n",
       "    87   0.8375  0.175      \"MASSACHUSETTS AVE @ TREMONT ST\"\n",
       "   188   1.575   0.975      \"MASSACHUSETTS AVE @ MASSACHUSETTS AVE STATION\"\n",
       "    89   0.5375  0.6625  …  \"MASSACHUSETTS AVE @ ST BOTOLPH ST\"\n",
       "    91   0.45    0.35       \"MASSACHUSETTS AVE @ CLEARWAY ST\"\n",
       "    93   1.1625  2.3875     \"MASSACHUSETTS AVE @ NEWBURY ST\"\n",
       "    95   0.2875  0.125      \"MASSACHUSETTS AVE @ BEACON ST\"\n",
       "    97   0.0625  1.5125     \"77 MASSACHUSETTS AVE\"\n",
       "    99   0.3125  1.2     …  \"MASSACHUSETTS AVE @ ALBANY ST 2\"\n",
       "   101   0.45    1.7        \"MASSACHUSETTS AVE @ SIDNEY ST\"\n",
       "   102   0.625   2.3125     \"MASSACHUSETTS AVE @ PROSPECT ST\"\n",
       "   104   0.125   0.2        \"MASSACHUSETTS AVE @ BIGELOW ST\"\n",
       "   106   0.0125  0.0625     \"MASSACHUSETTS AVE @ HANCOCK ST\"\n",
       "   107   0.0625  1.0125  …  \"MASSACHUSETTS AVE @ DANA ST\"\n",
       "   108   0.0125  0.35       \"MASSACHUSETTS AVE @ TROWBRIDGE ST\"\n",
       "   109   0.0     0.1        \"MASSACHUSETTS AVE @ BOW ST\"\n",
       "   110   0.0     4.2875     \"MASSACHUSETTS AVE @ HOLYOKE ST\""
      ]
     },
     "execution_count": 18,
     "metadata": {},
     "output_type": "execute_result"
    }
   ],
   "source": [
    "data_matrix[1]"
   ]
  },
  {
   "cell_type": "code",
   "execution_count": 19,
   "metadata": {},
   "outputs": [
    {
     "name": "stdout",
     "output_type": "stream",
     "text": [
      "Set parameter Username\n",
      "Academic license - for non-commercial use only - expires 2024-08-22\n"
     ]
    }
   ],
   "source": [
    "z, load, off, y, s, _ = bus_model_time_periods(0.5);"
   ]
  },
  {
   "cell_type": "code",
   "execution_count": 21,
   "metadata": {},
   "outputs": [
    {
     "data": {
      "text/plain": [
       "24×11 Matrix{Float64}:\n",
       " 1.0  1.0  1.0  1.0  1.0  1.0  1.0  1.0  1.0  1.0  1.0\n",
       " 0.0  0.0  0.0  0.0  0.0  0.0  0.0  0.0  0.0  0.0  0.0\n",
       " 0.0  0.0  0.0  0.0  0.0  0.0  0.0  0.0  0.0  0.0  0.0\n",
       " 0.0  0.0  0.0  0.0  0.0  0.0  0.0  0.0  0.0  0.0  0.0\n",
       " 0.0  0.0  1.0  1.0  0.0  0.0  0.0  0.0  0.0  0.0  0.0\n",
       " 1.0  1.0  1.0  1.0  1.0  1.0  1.0  1.0  1.0  1.0  1.0\n",
       " 1.0  1.0  1.0  1.0  1.0  1.0  1.0  1.0  1.0  1.0  1.0\n",
       " 1.0  1.0  1.0  1.0  0.0  0.0  0.0  0.0  0.0  0.0  1.0\n",
       " 1.0  1.0  1.0  1.0  0.0  0.0  0.0  0.0  0.0  0.0  1.0\n",
       " 1.0  1.0  1.0  1.0  1.0  1.0  1.0  1.0  1.0  1.0  1.0\n",
       " 0.0  0.0  1.0  1.0  1.0  1.0  1.0  1.0  1.0  1.0  0.0\n",
       " 0.0  0.0  1.0  1.0  1.0  1.0  1.0  1.0  1.0  1.0  0.0\n",
       " 1.0  1.0  1.0  1.0  1.0  1.0  1.0  1.0  1.0  1.0  1.0\n",
       " 1.0  1.0  1.0  1.0  1.0  1.0  1.0  0.0  0.0  0.0  1.0\n",
       " 0.0  0.0  0.0  0.0  1.0  1.0  1.0  0.0  0.0  0.0  0.0\n",
       " 0.0  0.0  1.0  1.0  0.0  0.0  0.0  0.0  0.0  0.0  0.0\n",
       " 0.0  0.0  1.0  1.0  1.0  1.0  1.0  0.0  0.0  0.0  0.0\n",
       " 0.0  0.0  0.0  0.0  1.0  1.0  1.0  0.0  0.0  0.0  0.0\n",
       " 0.0  0.0  0.0  0.0  1.0  1.0  1.0  0.0  0.0  0.0  0.0\n",
       " 0.0  0.0  0.0  0.0  0.0  0.0  0.0  0.0  0.0  0.0  0.0\n",
       " 0.0  0.0  0.0  0.0  0.0  0.0  0.0  0.0  0.0  0.0  0.0\n",
       " 0.0  0.0  0.0  0.0  0.0  0.0  0.0  0.0  0.0  0.0  0.0\n",
       " 0.0  0.0  0.0  0.0  1.0  1.0  1.0  0.0  0.0  0.0  0.0\n",
       " 1.0  1.0  1.0  1.0  1.0  1.0  1.0  1.0  1.0  1.0  1.0"
      ]
     },
     "execution_count": 21,
     "metadata": {},
     "output_type": "execute_result"
    }
   ],
   "source": [
    "value.(z)"
   ]
  },
  {
   "cell_type": "code",
   "execution_count": null,
   "metadata": {},
   "outputs": [],
   "source": []
  }
 ],
 "metadata": {
  "kernelspec": {
   "display_name": "Julia 1.9.2",
   "language": "julia",
   "name": "julia-1.9"
  },
  "language_info": {
   "file_extension": ".jl",
   "mimetype": "application/julia",
   "name": "julia",
   "version": "1.9.3"
  }
 },
 "nbformat": 4,
 "nbformat_minor": 4
}
